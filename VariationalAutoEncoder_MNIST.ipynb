{
  "nbformat": 4,
  "nbformat_minor": 0,
  "metadata": {
    "colab": {
      "provenance": []
    },
    "kernelspec": {
      "name": "python3",
      "display_name": "Python 3"
    },
    "language_info": {
      "name": "python"
    }
  },
  "cells": [
    {
      "cell_type": "markdown",
      "source": [
        "#Model"
      ],
      "metadata": {
        "id": "MTNIsRZv_f8D"
      }
    },
    {
      "cell_type": "code",
      "execution_count": 30,
      "metadata": {
        "id": "dsNDWRHznMzI"
      },
      "outputs": [],
      "source": [
        "import torch\n",
        "from torch import nn\n",
        "import torch.nn.functional as F"
      ]
    },
    {
      "cell_type": "code",
      "source": [
        "#process : images(input_dim) -> hidden dim -> mean and std deviation vectors -> reparametrization -> latent dimension -> output_dim\n",
        "class VariationalAutoEncoder(nn.Module):\n",
        "  def __init__(self,input_dim, h_dim = 200,z_dim = 20): #h_dim:hidden_dimension\n",
        "    super().__init__()\n",
        "\n",
        "    #encoder\n",
        "    self.img_2hid = nn.Linear(input_dim,h_dim) #taking input image into a hidden dimension\n",
        "    self.hid_2mu = nn.Linear(h_dim,z_dim) #z_dim is dimension of mu vector or std deviation vector or the latent vector (all 3 have the same dim)\n",
        "    self.hid_2sigma = nn.Linear(h_dim,z_dim) #for sd vector\n",
        "\n",
        "    #reparamterization will be taken care of later(in the forward class).for now,assuming reparamaterization is done,we start from the latent vector in the decoder\n",
        "\n",
        "    #decoder\n",
        "    self.z_2hid = nn.Linear(z_dim,h_dim)\n",
        "    self.hid_2img = nn.Linear(h_dim,input_dim)\n",
        "\n",
        "\n",
        "\n",
        "  def encode(self,x): #q_phi(z|x)\n",
        "    h = F.relu(self.img_2hid(x)) #mapping input into hidden dim followed by relu activation\n",
        "    mu,sigma = self.hid_2mu(h),self.hid_2sigma(h) #?) why not ReLu here\n",
        "    return mu,sigma\n",
        "  \n",
        "  def decode(self,z): #p_theta(x|z) again assuming we already have the latent vector z\n",
        "    h = F.relu(self.z_2hid(z))\n",
        "    img = self.hid_2img(h)\n",
        "    img = torch.sigmoid(img) #this step is specifically for our use-case,that is MNIST dataset,which assumes the pixel values are in b/w 0 and 1\n",
        "    return img\n",
        "\n",
        "  def forward(self,x,z):\n",
        "    #encode\n",
        "    mu,sigma = self.encode(x)\n",
        "    #now we apply reparamterization\n",
        "    epsilon = torch.rand_like(sigma)\n",
        "    z_reparametrized = mu+sigma*epsilon\n",
        "    #decode\n",
        "    x_reconstructed = self.decode(z_reparametrized)\n",
        "    return x_reconstructed,mu,sigma #remember that we need this mu and sigma to compute the loss functions (especially while computing the KL divergence)"
      ],
      "metadata": {
        "id": "AProO9V9oKmg"
      },
      "execution_count": 31,
      "outputs": []
    },
    {
      "cell_type": "code",
      "source": [
        "if __name__ == \"__main__\":\n",
        "  x = torch.randn(4,28*28) #batch_size = 4 and 28*28 images\n",
        "  vae = VariationalAutoEncoder(input_dim = 784) #input dim is 28*28 flattened as an input vector. The other two paramters are already initialised above"
      ],
      "metadata": {
        "id": "_IxHZY6svssY"
      },
      "execution_count": 32,
      "outputs": []
    },
    {
      "cell_type": "markdown",
      "source": [
        "#Training"
      ],
      "metadata": {
        "id": "9hDqrTkz_i_s"
      }
    },
    {
      "cell_type": "code",
      "source": [
        "import torch\n",
        "import torch.nn as nn\n",
        "import torch.optim as optim\n",
        "import torch.nn.functional as F\n",
        "import torchvision\n",
        "from torchvision import transforms\n",
        "from torchvision.utils import save_image\n",
        "from tqdm import tqdm #for progress bar\n",
        "import torchvision.datasets as datasets  #to get MNIST\n",
        "from torch.utils.data import DataLoader"
      ],
      "metadata": {
        "id": "E2mhsBwP_TyC"
      },
      "execution_count": 33,
      "outputs": []
    },
    {
      "cell_type": "code",
      "source": [
        "#initializing hyperparameters\n",
        "DEVICE = torch.device(\"cuda\" if torch.cuda.is_available() else \"cpu\")\n",
        "INPUT_DIM = 784\n",
        "H_DIM = 200\n",
        "Z_DIM = 20\n",
        "NUM_EPOCHS = 10\n",
        "BATCH_SIZE = 32\n",
        "LR_RATE = 3e-4"
      ],
      "metadata": {
        "id": "a7sLg-As_n-I"
      },
      "execution_count": 34,
      "outputs": []
    },
    {
      "cell_type": "code",
      "source": [
        "#Loading dataset\n",
        "dataset = datasets.MNIST(root = \"dataset/\",train = True,transform = transforms.ToTensor(),download = True) #.ToTensor also divides by 255(scaling)\n",
        "train_loader = DataLoader(dataset = dataset,batch_size = BATCH_SIZE,shuffle = True)\n",
        "model = VariationalAutoEncoder(INPUT_DIM,H_DIM,Z_DIM).to(DEVICE)\n",
        "optimizer = optim.Adam(model.parameters(),lr = LR_RATE)\n",
        "loss_fn = nn.BCELoss(reduction = 'sum') #might use MSE also"
      ],
      "metadata": {
        "id": "fHZAAJo2CQE8"
      },
      "execution_count": 35,
      "outputs": []
    },
    {
      "cell_type": "code",
      "source": [
        "#Training\n",
        "for epoch in range(NUM_EPOCHS):\n",
        "  loop = tqdm(enumerate(train_loader))\n",
        "  for i,(x,_) in loop:\n",
        "    #Forward pass\n",
        "    x = x.to(DEVICE).view(x.shape[0],INPUT_DIM)\n",
        "    x_reconstructed,mu,sigma = model(x,Z_DIM)\n",
        "\n",
        "    #Compute loss\n",
        "    reconstruction_loss = loss_fn(x_reconstructed, x)\n",
        "    kl_div = -torch.sum(1+torch.log(sigma.pow(2)) - mu.pow(2) - sigma.pow(2)) #-ve sign was not part of the paper but pytorch minimizes loss by default\n",
        "\n",
        "    #Backpropagation\n",
        "    loss = reconstruction_loss + kl_div\n",
        "    optimizer.zero_grad()\n",
        "    loss.backward()\n",
        "    optimizer.step()\n",
        "    loop.set_postfix(loss = loss.item())\n"
      ],
      "metadata": {
        "colab": {
          "base_uri": "https://localhost:8080/"
        },
        "id": "w12aCTIKD7eP",
        "outputId": "3ff37f28-2ac1-41b6-9240-032aa0433f6c"
      },
      "execution_count": 36,
      "outputs": [
        {
          "output_type": "stream",
          "name": "stderr",
          "text": [
            "1875it [00:32, 57.81it/s, loss=4.3e+3]\n",
            "1875it [00:31, 59.48it/s, loss=3.59e+3]\n",
            "1875it [00:32, 57.04it/s, loss=3.73e+3]\n",
            "1875it [00:32, 58.13it/s, loss=3.24e+3]\n",
            "1875it [00:32, 58.02it/s, loss=3.51e+3]\n",
            "1875it [00:32, 57.67it/s, loss=3.49e+3]\n",
            "1875it [00:31, 58.89it/s, loss=3.43e+3]\n",
            "1875it [00:32, 57.44it/s, loss=3.16e+3]\n",
            "1875it [00:31, 58.97it/s, loss=3.33e+3]\n",
            "1875it [00:32, 57.08it/s, loss=3.47e+3]\n"
          ]
        }
      ]
    },
    {
      "cell_type": "code",
      "source": [
        "def inference(digit, num_examples=1): #digits and number of examples we want to generate\n",
        "\n",
        "#Generates (num_examples) of a particular digit.Specifically we extract an example of each digit,then after we have the mu, sigma representation foreach digit we can sample from that.\n",
        "\n",
        "#After we sample we can run the decoder part of the VAE and generate examples.\n",
        "    images = []\n",
        "    idx = 0 #getting 10 images\n",
        "    for x, y in dataset:\n",
        "        if y == idx:\n",
        "            images.append(x)\n",
        "            idx += 1\n",
        "        if idx == 10:\n",
        "            break\n",
        "\n",
        "    encodings_digit = [] #getting mu and sigma for each image\n",
        "    for d in range(10):\n",
        "        with torch.no_grad():\n",
        "            mu, sigma = model.encode(images[d].view(1, 784))\n",
        "        encodings_digit.append((mu, sigma))\n",
        "\n",
        "    mu, sigma = encodings_digit[digit] #generate new images after reparametrization\n",
        "    for example in range(num_examples):\n",
        "        epsilon = torch.randn_like(sigma)\n",
        "        z = mu + sigma * epsilon\n",
        "        out = model.decode(z)\n",
        "        out = out.view(-1, 1, 28, 28)\n",
        "        save_image(out, f\"generated_{digit}_ex{example}.png\")\n",
        "\n",
        "for idx in range(10):\n",
        "  inference(idx,num_examples = 1)"
      ],
      "metadata": {
        "id": "xc1ZGFBFJpmE"
      },
      "execution_count": 38,
      "outputs": []
    },
    {
      "cell_type": "code",
      "source": [
        "from PIL import Image\n",
        " \n",
        "for i in range(10):\n",
        "  img = Image.open('/content/generated_'+str(i)+'_ex0.png')\n",
        "  img.show()"
      ],
      "metadata": {
        "colab": {
          "base_uri": "https://localhost:8080/",
          "height": 297
        },
        "id": "-seI4_UQWsnF",
        "outputId": "ebeed8c4-378f-4295-9054-1323dba7675f"
      },
      "execution_count": 40,
      "outputs": [
        {
          "output_type": "display_data",
          "data": {
            "text/plain": [
              "<PIL.PngImagePlugin.PngImageFile image mode=RGB size=28x28 at 0x7F23F133B7C0>"
            ],
            "image/png": "[encoded data removed]"
          },
          "metadata": {}
        },
        {
          "output_type": "display_data",
          "data": {
            "text/plain": [
              "<PIL.PngImagePlugin.PngImageFile image mode=RGB size=28x28 at 0x7F23F133B820>"
            ],
            "image/png": "[encoded data removed]"
          },
          "metadata": {}
        },
        {
          "output_type": "display_data",
          "data": {
            "text/plain": [
              "<PIL.PngImagePlugin.PngImageFile image mode=RGB size=28x28 at 0x7F23F133AEF0>"
            ],
            "image/png": "[encoded data removed]"
          },
          "metadata": {}
        },
        {
          "output_type": "display_data",
          "data": {
            "text/plain": [
              "<PIL.PngImagePlugin.PngImageFile image mode=RGB size=28x28 at 0x7F23F133A980>"
            ],
            "image/png": "[encoded data removed]"
          },
          "metadata": {}
        },
        {
          "output_type": "display_data",
          "data": {
            "text/plain": [
              "<PIL.PngImagePlugin.PngImageFile image mode=RGB size=28x28 at 0x7F23F133BA30>"
            ],
            "image/png": "[encoded data removed]"
          },
          "metadata": {}
        },
        {
          "output_type": "display_data",
          "data": {
            "text/plain": [
              "<PIL.PngImagePlugin.PngImageFile image mode=RGB size=28x28 at 0x7F23F133B430>"
            ],
            "image/png": "[encoded data removed]"
          },
          "metadata": {}
        },
        {
          "output_type": "display_data",
          "data": {
            "text/plain": [
              "<PIL.PngImagePlugin.PngImageFile image mode=RGB size=28x28 at 0x7F23F133A5F0>"
            ],
            "image/png": "[encoded data removed]"
          },
          "metadata": {}
        },
        {
          "output_type": "display_data",
          "data": {
            "text/plain": [
              "<PIL.PngImagePlugin.PngImageFile image mode=RGB size=28x28 at 0x7F23F133BD00>"
            ],
            "image/png": "[encoded data removed]"
          },
          "metadata": {}
        },
        {
          "output_type": "display_data",
          "data": {
            "text/plain": [
              "<PIL.PngImagePlugin.PngImageFile image mode=RGB size=28x28 at 0x7F23F133B850>"
            ],
            "image/png": "[encoded data removed]"
          },
          "metadata": {}
        },
        {
          "output_type": "display_data",
          "data": {
            "text/plain": [
              "<PIL.PngImagePlugin.PngImageFile image mode=RGB size=28x28 at 0x7F23F133B280>"
            ],
            "image/png": "[encoded data removed]"
          },
          "metadata": {}
        }
      ]
    },
    {
      "cell_type": "markdown",
      "source": [
        " The recreated MNIST images are still blurry due to the slow converge of the overall loss.This shows that the hyperparameters can further be fine-tuned like learning rate,batch_size,number of epochs,etc.. to make the images look more sharp"
      ],
      "metadata": {
        "id": "FF5rtDN4XSUr"
      }
    }
  ]
}